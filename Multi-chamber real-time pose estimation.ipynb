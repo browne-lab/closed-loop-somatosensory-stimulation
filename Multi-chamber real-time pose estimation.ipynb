{
 "cells": [
  {
   "cell_type": "markdown",
   "metadata": {},
   "source": [
    "#### Title: Multi-chamber real-time pose estimation  \n",
    "\n",
    "##### Description:  \n",
    "This notebook describes where in the DeepLabCut-Live! SDK and DeepLabCut-Live! GUI scripts to modify code to deliver random access targeting of multiple animals in individual chambers.  \n",
    "The following 3 scripts are modified:  \n",
    "(1) https://github.com/DeepLabCut/DeepLabCut-live-GUI/blob/master/dlclivegui/pose_process.py  \n",
    "(2) https://github.com/DeepLabCut/DeepLabCut-live/blob/master/dlclive/utils.py  \n",
    "(3) https://github.com/DeepLabCut/DeepLabCut-live/blob/master/dlclive/dlclive.py  \n",
    "\n",
    "##### Attribution:  \n",
    "This file is based on work originally found in the DeepLabCut Toolbox (deeplabcut.org, https://github.com/DeepLabCut/DeepLabCut-live, https://github.com/DeepLabCut/DeepLabCut-live-GUI) by A. & M. Mathis Labs. It was modified by Isobel Parkes (https://github.com/Isoparkes) and Liam E. Browne (https://github.com/lebrowne) for multi-animal assessment of nocifensive behaviours for Parkes et al 2024.  \n",
    "\n",
    "##### Date:  \n",
    "Created on: July 11, 2024  \n",
    "Last updated: July 11, 2024  \n",
    "\n",
    "##### Original License:  \n",
    "This work includes modifications to code licensed under the GNU Lesser General Public License v3.0.  \n",
    "For more information, see <https://www.gnu.org/licenses/lgpl-3.0.html>.  \n",
    "\n",
    "##### Additional Contributions License:  \n",
    "The modifications made by Isobel Parkes and Liam E. Browne are licensed under the MIT License. For more details, see <https://opensource.org/licenses/MIT>.  "
   ]
  },
  {
   "cell_type": "markdown",
   "metadata": {},
   "source": [
    "#### (1) https://github.com/DeepLabCut/DeepLabCut-live-GUI/blob/master/dlclivegui/pose_process.py "
   ]
  },
  {
   "cell_type": "markdown",
   "metadata": {},
   "source": [
    "Insert below these two lines:  \n",
    "\n",
    "```python\n",
    "from dlclivegui import CameraProcess  \n",
    "from dlclivegui.queue import ClearableQueue, ClearableMPQueue\n",
    "```"
   ]
  },
  {
   "cell_type": "code",
   "execution_count": null,
   "metadata": {},
   "outputs": [],
   "source": [
    "import cv2\n",
    "\n",
    "x1 = 0 ### Modify according to ROI of all chambers\n",
    "x2 = 0\n",
    "y1 = 0\n",
    "y2 = 0\n",
    "\n",
    "all_rois = ((x1, y1), (x2, y2))\n",
    "chamber0 = np.load(r'path\\ROI.npy')[all_rois[0][1]:all_rois[1][1],all_rois[0][0]:all_rois[1][0]] ### Add path to chamber ROI here and the below lines according to number of chambers (9 chambers used for Parkes et al)\n",
    "chamber1 = np.load(r'path\\ROI.npy')[all_rois[0][1]:all_rois[1][1],all_rois[0][0]:all_rois[1][0]]\n",
    "chamber2 = np.load(r'path\\ROI.npy')[all_rois[0][1]:all_rois[1][1],all_rois[0][0]:all_rois[1][0]]\n",
    "chamber3 = np.load(r'path\\ROI.npy')[all_rois[0][1]:all_rois[1][1],all_rois[0][0]:all_rois[1][0]]\n",
    "chamber4 = np.load(r'path\\ROI.npy')[all_rois[0][1]:all_rois[1][1],all_rois[0][0]:all_rois[1][0]]\n",
    "chamber5 = np.load(r'path\\ROI.npy')[all_rois[0][1]:all_rois[1][1],all_rois[0][0]:all_rois[1][0]]\n",
    "chamber6 = np.load(r'path\\ROI.npy')[all_rois[0][1]:all_rois[1][1],all_rois[0][0]:all_rois[1][0]]\n",
    "chamber7 = np.load(r'path\\ROI.npy')[all_rois[0][1]:all_rois[1][1],all_rois[0][0]:all_rois[1][0]]\n",
    "chamber8 = np.load(r'path\\ROI.npy')[all_rois[0][1]:all_rois[1][1],all_rois[0][0]:all_rois[1][0]]\n",
    "\n",
    "chambers = [chamber0, chamber1, chamber2, chamber3, chamber4, chamber5, chamber6, chamber7, chamber8]\n",
    "chambers_dict = {'0':[(), ()], ### Modify according to (x1,y2), (x2,y2) for each chamber ROI\n",
    "'1':[(), ()],\n",
    "'2':[(), ()],\n",
    "'3':[(), ()],\n",
    "'4':[(), ()],\n",
    "'5':[(), ()],\n",
    "'6':[(), ()],\n",
    "'7':[(), ()],\n",
    "'8':[(), ()]}"
   ]
  },
  {
   "cell_type": "markdown",
   "metadata": {},
   "source": [
    "Insert within the *__CameraPoseProcess__* class below the following lines:  \n",
    "\n",
    "```python\n",
    "class CameraPoseProcess(CameraProcess):  \n",
    "    \"\"\" Camera Process Manager class. Controls image capture, pose estimation and writing images to a video file in a background process.  \n",
    "    \n",
    "    Parameters  \n",
    "    ----------  \n",
    "    device : :class:`cameracontrol.Camera`  \n",
    "        a camera object  \n",
    "    ctx : :class:`multiprocess.Context`  \n",
    "        multiprocessing context  \n",
    "    \"\"\"  \n",
    "```"
   ]
  },
  {
   "cell_type": "code",
   "execution_count": null,
   "metadata": {},
   "outputs": [],
   "source": [
    "running_stimulation = False ### Set up variables for psuedo-randomly selecting a chamber depending on the motion energy of an animal\n",
    "stim = np.zeros(9)\n",
    "idle_timestamps=np.empty(9); idle_timestamps.fill(1000000000000)\n",
    "idle_threshold = 30000 ### User-defined (depending on the activity of the animals)\n",
    "background_threshold = 10 ### User-defined (to remove background noise from motion energy calculation)\n",
    "prev_frame = np.zeros((685,690),dtype=np.uint8) ### Modify according to dimensions of cropped chamber ROI\n",
    "count = 0\n",
    "t0 = 0\n",
    "selected_chamber = None"
   ]
  },
  {
   "cell_type": "markdown",
   "metadata": {},
   "source": [
    "Insert the custom methods within the *__CameraPoseProcess__* class after the constructor method:\n",
    "\n",
    "```python\n",
    "def __init__(self, device, ctx=mp.get_context(\"spawn\")):\n",
    "        \"\"\" Constructor method\n",
    "        \"\"\"\n",
    "\n",
    "        super().__init__(device, ctx)\n",
    "        self.display_pose = None\n",
    "        self.display_pose_queue = ClearableMPQueue(2, ctx=self.ctx)\n",
    "        self.pose_process = None\n",
    "```"
   ]
  },
  {
   "cell_type": "code",
   "execution_count": null,
   "metadata": {},
   "outputs": [],
   "source": [
    "def motion_in_roi(self,chambers, motion):\n",
    "\n",
    "    chambers_motion = []\n",
    "    for c in chambers:\n",
    "        roi_motion = (c*motion).sum()\n",
    "        chambers_motion.append(roi_motion)\n",
    "\n",
    "    return chambers_motion\n",
    "\n",
    "def idle_onset(self,chambers_motion, t, a):\n",
    "\n",
    "    b = np.array((chambers_motion*1),dtype=np.int64)\n",
    "    \n",
    "    a[(a == 1000000000000) & (b == 1)] = t\n",
    "    a[b == 0] = 1000000000000\n",
    "\n",
    "    return a\n",
    "\n",
    "def crop_to_selected_chamber(self, selected_chamber, chambers_dict, frame):\n",
    "\n",
    "    crop_parameters = chambers_dict[selected_chamber]\n",
    "    x1 = crop_parameters[0][0]\n",
    "    x2 = crop_parameters[1][0]\n",
    "    y1 = crop_parameters[0][1]\n",
    "    y2 = crop_parameters[1][1]\n",
    "\n",
    "    frame.base is frame\n",
    "    full_view = frame.base\n",
    "\n",
    "    cropped_chamber = full_view[y1:y2,x1:x2]\n",
    "    \n",
    "    return cropped_chamber.copy(), x1, y1"
   ]
  },
  {
   "cell_type": "markdown",
   "metadata": {},
   "source": [
    "Insert in the method *___pose_loop__* within the *__CameraPoseProcess__* class:  \n",
    "\n",
    "```python\n",
    "def _pose_loop(self):\n",
    "        \"\"\" Conduct pose estimation using deeplabcut-live in loop\n",
    "        \"\"\"\n",
    "```"
   ]
  },
  {
   "cell_type": "code",
   "execution_count": null,
   "metadata": {},
   "outputs": [],
   "source": [
    "run = True\n",
    "write = False\n",
    "frame_time = 0\n",
    "pose_time = 0\n",
    "end_time = time.time()\n",
    "trial = False\n",
    "trial_chamber = 0"
   ]
  },
  {
   "cell_type": "markdown",
   "metadata": {},
   "source": [
    "Insert in the method *___pose_loop__* after the following lines:\n",
    "\n",
    "```python\n",
    "while run:\n",
    "\n",
    "    ref_time = frame_time if self.opt_rate else end_time\n",
    "\n",
    "    if self.frame_time[0] > ref_time:\n",
    "\n",
    "        frame = self.frame\n",
    "        frame_time = self.frame_time[0]\n",
    "```"
   ]
  },
  {
   "cell_type": "code",
   "execution_count": null,
   "metadata": {},
   "outputs": [],
   "source": [
    "frame = cv2.cvtColor(frame, cv2.COLOR_BGR2GRAY)[all_rois[0][1]:all_rois[1][1],all_rois[0][0]:all_rois[1][0]]\n",
    "motion = cv2.absdiff(self.prev_frame, frame)\n",
    "motion = (motion>self.background_threshold)*motion\n",
    "chambers_motion = self.motion_in_roi(chambers, motion)\n",
    "chambers_motion = np.array(chambers_motion)<self.idle_threshold\n",
    "t = time.time_ns() / 1000000000\n",
    "idle_timestamps = self.idle_onset(chambers_motion, t, self.idle_timestamps)\n",
    "ready_for_stim = (((t-idle_timestamps)>2) & ((t - self.stim)>10)) ### Animal has been stationary for 2 seconds (idle) and the chamber has not been selected in previous 10 seconds\n",
    "if (ready_for_stim.any()): \n",
    "    if self.count == 0:\n",
    "        chambers_ready = np.where(ready_for_stim)[0]\n",
    "        self.selected_chamber = str(np.random.choice(chambers_ready,1)[0]) \n",
    "        self.t0 = t             \n",
    "    if (t - self.t0) > 5:\n",
    "        self.count = 0\n",
    "        chambers_ready = np.where(ready_for_stim)[0]\n",
    "        self.selected_chamber = str(np.random.choice(chambers_ready,1)[0])\n",
    "        self.t0 = t\n",
    "    self.prev_frame = frame\n",
    "    if trial:\n",
    "        self.selected_chamber = trial_chamber\n",
    "    frame, x1, y1 = self.crop_to_selected_chamber(self.selected_chamber, chambers_dict, frame)  \n",
    "    self.count += 1\n",
    "else:\n",
    "    self.count = 0\n",
    "    self.prev_frame = frame\n",
    "    frame = np.zeros((685,690),dtype=np.uint8) ### Modify according to dimensions of cropped chamber ROI\n",
    "    x1 = 435 ### Modify according to dimensions of cropped chamber ROI\n",
    "    y1 = 540 \n",
    "    if not trial:\n",
    "        self.selected_chamber = None\n",
    "\n",
    "frame = frame.T\n",
    "pose, trial = self.dlc.get_pose(frame, x1, y1, self.selected_chamber, frame_time=frame_time, record=write) ### This line replaces the original line: pose = self.dlc.get_pose(frame, frame_time=frame_time, record=write)\n",
    "if trial:\n",
    "    trial_chamber = self.selected_chamber\n"
   ]
  },
  {
   "cell_type": "markdown",
   "metadata": {},
   "source": [
    "##### (2) https://github.com/DeepLabCut/DeepLabCut-live/blob/master/dlclive/utils.py "
   ]
  },
  {
   "cell_type": "markdown",
   "metadata": {},
   "source": [
    "Insert below the following lines:  \n",
    "\n",
    "```python\n",
    "import numpy as np\n",
    "import warnings\n",
    "from dlclive.exceptions import DLCLiveWarning\n",
    "```"
   ]
  },
  {
   "cell_type": "code",
   "execution_count": null,
   "metadata": {},
   "outputs": [],
   "source": [
    "x1 = 0 ### Modify according to ROI of all chambers\n",
    "x2 = 0\n",
    "y1 = 0\n",
    "y2 = 0\n",
    "\n",
    "all_rois = ((x1, y1), (x2, y2))\n",
    "chamber0 = np.load(r'path\\ROI.npy')[all_rois[0][1]:all_rois[1][1],all_rois[0][0]:all_rois[1][0]] ### Add path to chamber ROI here and the below lines according to number of chambers (9 chambers used for Parkes et al)\n",
    "chamber1 = np.load(r'path\\ROI.npy')[all_rois[0][1]:all_rois[1][1],all_rois[0][0]:all_rois[1][0]]\n",
    "chamber2 = np.load(r'path\\ROI.npy')[all_rois[0][1]:all_rois[1][1],all_rois[0][0]:all_rois[1][0]]\n",
    "chamber3 = np.load(r'path\\ROI.npy')[all_rois[0][1]:all_rois[1][1],all_rois[0][0]:all_rois[1][0]]\n",
    "chamber4 = np.load(r'path\\ROI.npy')[all_rois[0][1]:all_rois[1][1],all_rois[0][0]:all_rois[1][0]]\n",
    "chamber5 = np.load(r'path\\ROI.npy')[all_rois[0][1]:all_rois[1][1],all_rois[0][0]:all_rois[1][0]]\n",
    "chamber6 = np.load(r'path\\ROI.npy')[all_rois[0][1]:all_rois[1][1],all_rois[0][0]:all_rois[1][0]]\n",
    "chamber7 = np.load(r'path\\ROI.npy')[all_rois[0][1]:all_rois[1][1],all_rois[0][0]:all_rois[1][0]]\n",
    "chamber8 = np.load(r'path\\ROI.npy')[all_rois[0][1]:all_rois[1][1],all_rois[0][0]:all_rois[1][0]]\n",
    "\n",
    "chambers = [chamber0, chamber1, chamber2, chamber3, chamber4, chamber5, chamber6, chamber7, chamber8]\n",
    "chambers_dict = {'0':[(), ()], ### Modify according to (x1,y2), (x2,y2) for each chamber ROI\n",
    "'1':[(), ()],\n",
    "'2':[(), ()],\n",
    "'3':[(), ()],\n",
    "'4':[(), ()],\n",
    "'5':[(), ()],\n",
    "'6':[(), ()],\n",
    "'7':[(), ()],\n",
    "'8':[(), ()]}"
   ]
  },
  {
   "cell_type": "markdown",
   "metadata": {},
   "source": [
    "Insert the custom function below the function *__decode_fourcc__*\n",
    "\n",
    "```python\n",
    "def decode_fourcc(cc):\n",
    "    \"\"\"\n",
    "    Convert float fourcc code from opencv to characters.\n",
    "    If decode fails, returns empty string.\n",
    "    https://stackoverflow.com/a/49138893\n",
    "    Arguments:\n",
    "        cc (float, int): fourcc code from opencv\n",
    "    Returns:\n",
    "         str: Character format of fourcc code\n",
    "\n",
    "    Examples:\n",
    "        >>> vid = cv2.VideoCapture('/some/video/path.avi')\n",
    "        >>> decode_fourcc(vid.get(cv2.CAP_PROP_FOURCC))\n",
    "        'DIVX'\n",
    "    \"\"\"\n",
    "    try:\n",
    "        decoded = \"\".join([chr((int(cc) >> 8 * i) & 0xFF) for i in range(4)])\n",
    "    except:\n",
    "        decoded = \"\"\n",
    "\n",
    "    return decoded\n",
    "```"
   ]
  },
  {
   "cell_type": "code",
   "execution_count": null,
   "metadata": {},
   "outputs": [],
   "source": [
    "def original_coord_system(pose, x1, y1, selected_chamber):\n",
    "\n",
    "    c1 = pose[:,0]+x1 \n",
    "    c2 = pose[:,1]+y1\n",
    "    c3 = pose[:,2]\n",
    "\n",
    "    pose = np.vstack((c1, c2, c3)).T\n",
    "    pose = np.insert(pose, 3, selected_chamber, axis=1)\n",
    "    # print('chamber:', selected_chamber, 'x1:', x1, 'y1:', y1)\n",
    "\n",
    "    return pose"
   ]
  },
  {
   "cell_type": "markdown",
   "metadata": {},
   "source": [
    "#### (3) https://github.com/DeepLabCut/DeepLabCut-live/blob/master/dlclive/dlclive.py  "
   ]
  },
  {
   "cell_type": "markdown",
   "metadata": {},
   "source": [
    "Insert as input parameters in the method *__get_pose__* within the *__DLCLive__* class"
   ]
  },
  {
   "cell_type": "code",
   "execution_count": null,
   "metadata": {},
   "outputs": [],
   "source": [
    "x1=435, y1=540, selected_chamber=None ### Modify x1 and y1 according to cropped chamber ROI\n",
    "\n",
    "### For example, def get_pose(self, frame=None, x1=435, y1=540, selected_chamber=None, **kwargs):"
   ]
  },
  {
   "cell_type": "markdown",
   "metadata": {},
   "source": [
    "Insert below the following lines within the method *__get_pose__*–\n",
    "\n",
    "```python\n",
    "if self.dynamic_cropping is not None:\n",
    "    self.pose[:, 0] += self.dynamic_cropping[0]\n",
    "    self.pose[:, 1] += self.dynamic_cropping[2]\n",
    "```\n",
    "\n",
    "–replacing the original code lines:\n",
    "\n",
    "```python\n",
    "if self.processor:\n",
    "    self.pose = self.processor.process(self.pose, **kwargs)\n",
    "\n",
    "return self.pose\n",
    "```"
   ]
  },
  {
   "cell_type": "code",
   "execution_count": null,
   "metadata": {},
   "outputs": [],
   "source": [
    "if self.processor:\n",
    "    self.pose = utils.original_coord_system(pose, x1, y1, selected_chamber)\n",
    "    self.pose, self.trial = self.processor.process(self.pose, **kwargs)\n",
    "\n",
    "return self.pose, self.trial"
   ]
  }
 ],
 "metadata": {
  "language_info": {
   "name": "python"
  }
 },
 "nbformat": 4,
 "nbformat_minor": 2
}
